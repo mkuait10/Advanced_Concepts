{
 "cells": [
  {
   "cell_type": "code",
   "execution_count": 13,
   "metadata": {},
   "outputs": [
    {
     "name": "stdout",
     "output_type": "stream",
     "text": [
      "2123242436928\n",
      "2123242436928\n",
      "2123241860552\n",
      "(1, 2)\n",
      "(0,)\n"
     ]
    }
   ],
   "source": [
    "def append(lst):\n",
    "    print (id(lst))\n",
    "    lst = (1,2,)\n",
    "    print (id(lst))\n",
    "    #lst.append(1)\n",
    "    print (lst)   \n",
    "\n",
    "    \n",
    "lst = (0,)\n",
    "print (id(lst))\n",
    "append(lst)\n",
    "print (lst)"
   ]
  },
  {
   "cell_type": "code",
   "execution_count": null,
   "metadata": {},
   "outputs": [],
   "source": []
  },
  {
   "cell_type": "code",
   "execution_count": null,
   "metadata": {},
   "outputs": [],
   "source": []
  },
  {
   "cell_type": "code",
   "execution_count": null,
   "metadata": {},
   "outputs": [],
   "source": []
  }
 ],
 "metadata": {
  "kernelspec": {
   "display_name": "Python 3",
   "language": "python",
   "name": "python3"
  },
  "language_info": {
   "codemirror_mode": {
    "name": "ipython",
    "version": 3
   },
   "file_extension": ".py",
   "mimetype": "text/x-python",
   "name": "python",
   "nbconvert_exporter": "python",
   "pygments_lexer": "ipython3",
   "version": "3.6.5"
  }
 },
 "nbformat": 4,
 "nbformat_minor": 2
}
