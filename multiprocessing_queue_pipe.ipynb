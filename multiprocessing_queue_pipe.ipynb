{
 "cells": [
  {
   "cell_type": "markdown",
   "metadata": {},
   "source": [
    "### Ways of Sharing Data Between Processes\n",
    "- File\n",
    "- Shared Memory\n",
    "- Message Pipe"
   ]
  },
  {
   "cell_type": "markdown",
   "metadata": {},
   "source": [
    "#### Using Queue/Pipe"
   ]
  },
  {
   "cell_type": "code",
   "execution_count": null,
   "metadata": {},
   "outputs": [],
   "source": [
    "import time\n",
    "import multiprocessing\n",
    "\n",
    "\n",
    "def calc_square(numbers, q):\n",
    "    for n in numbers:\n",
    "        q.put(n * n)\n",
    "\n",
    "\n",
    "if __name__ == \"__main__\":\n",
    "    numbers = [2,3,5]\n",
    "    q = multiprocessing.Queue()\n",
    "    p1 = multiprocessing.Process(target=calc_square, args=(numbers, q))\n",
    "\n",
    "    p1.start()\n",
    "\n",
    "    p1.join()\n",
    "    \n",
    "    while q.empty() is False:\n",
    "        print (q.get())"
   ]
  }
 ],
 "metadata": {
  "kernelspec": {
   "display_name": "Python 3",
   "language": "python",
   "name": "python3"
  },
  "language_info": {
   "codemirror_mode": {
    "name": "ipython",
    "version": 3
   },
   "file_extension": ".py",
   "mimetype": "text/x-python",
   "name": "python",
   "nbconvert_exporter": "python",
   "pygments_lexer": "ipython3",
   "version": "3.6.5"
  }
 },
 "nbformat": 4,
 "nbformat_minor": 2
}
