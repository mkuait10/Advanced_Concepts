{
 "cells": [
  {
   "cell_type": "markdown",
   "metadata": {},
   "source": [
    "### SOAP and REST "
   ]
  },
  {
   "cell_type": "markdown",
   "metadata": {},
   "source": [
    "- Common protocol - HTTP  .\n",
    "- Common Message Format - Json / Xml.\n"
   ]
  },
  {
   "cell_type": "markdown",
   "metadata": {},
   "source": [
    "### How many types of web services available in http world ?"
   ]
  },
  {
   "cell_type": "markdown",
   "metadata": {},
   "source": [
    "- SOAP\n",
    "- RestFul Api"
   ]
  },
  {
   "cell_type": "markdown",
   "metadata": {},
   "source": [
    "### SOAP"
   ]
  },
  {
   "cell_type": "markdown",
   "metadata": {},
   "source": [
    "##### Advantages:\n",
    "- More sucure as it is enclosed in an xml envelope.\n",
    "- Supports many protocols - HTTP, SMTP, FTP.\n",
    "- Consume only using RPC, so unlimited data can be sent.\n",
    "\n",
    "##### Disadvantages:\n",
    "- Only xml based\n",
    "- Heavy weight\n",
    "- High bandwidht\n",
    "- Parsing xml slowdown\n",
    "- very complex to design using WSDL"
   ]
  },
  {
   "cell_type": "markdown",
   "metadata": {},
   "source": [
    "### REST"
   ]
  },
  {
   "cell_type": "markdown",
   "metadata": {},
   "source": [
    "- Representational state transfer\n",
    "- It means, each url is a representation of following object/resource.\n",
    "  - GET, POST, PUT, DELETE"
   ]
  },
  {
   "cell_type": "markdown",
   "metadata": {},
   "source": [
    "##### Advantages:\n",
    "- Light weight\n",
    "- less bandwidth\n",
    "- high performance\n",
    "- Human readable message Fotmat - JSON\n",
    "- Supports many protocols - HTTP, SMTP, FTP\n",
    "\n",
    "##### Disadvantages:\n",
    "- Less secured\n",
    "- Only supports uri i.e HTTP\n",
    "- Limited transfer of data possible\n",
    "- Consume only using HTTP, so limited data t/f possible"
   ]
  },
  {
   "cell_type": "markdown",
   "metadata": {},
   "source": [
    "### Various HTTP/HTTPs methods/verbs:\n"
   ]
  },
  {
   "cell_type": "markdown",
   "metadata": {},
   "source": [
    "- GET ===> To get one / more resources.\n",
    "- POST ===> create new resource.\n",
    "- PUT ===> update existing resource.\n",
    "- PATCH ===> partial update (1 or 2 properties only)\n",
    "- DELETE ===> delete a resource\n",
    "\n",
    "- Other methods:\n",
    "  - OPTIONS\n",
    "  - HEAD\n",
    "  - CONNECT\n",
    "  - TRACE\n",
    "  - MOVE\n",
    "  - LOCK\n",
    "  - PROFIND"
   ]
  },
  {
   "cell_type": "markdown",
   "metadata": {},
   "source": [
    "### Database CRUD operations vs HTTP verbs:"
   ]
  },
  {
   "cell_type": "markdown",
   "metadata": {},
   "source": [
    "- C ===> Create => POST\n",
    "- R ===> Read => GET\n",
    "- U ===> Update => PUT/PATCH\n",
    "- D ===> Delete => DELETE\n",
    "\n"
   ]
  },
  {
   "cell_type": "code",
   "execution_count": null,
   "metadata": {},
   "outputs": [],
   "source": []
  }
 ],
 "metadata": {
  "kernelspec": {
   "display_name": "Python 3",
   "language": "python",
   "name": "python3"
  },
  "language_info": {
   "codemirror_mode": {
    "name": "ipython",
    "version": 3
   },
   "file_extension": ".py",
   "mimetype": "text/x-python",
   "name": "python",
   "nbconvert_exporter": "python",
   "pygments_lexer": "ipython3",
   "version": "3.6.5"
  }
 },
 "nbformat": 4,
 "nbformat_minor": 2
}
