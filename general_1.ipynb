{
 "cells": [
  {
   "cell_type": "code",
   "execution_count": null,
   "metadata": {},
   "outputs": [],
   "source": [
    "# Keywords - "
   ]
  },
  {
   "cell_type": "code",
   "execution_count": null,
   "metadata": {},
   "outputs": [],
   "source": [
    "# Identifiers - "
   ]
  },
  {
   "cell_type": "code",
   "execution_count": null,
   "metadata": {},
   "outputs": [],
   "source": [
    "# Literals - "
   ]
  },
  {
   "cell_type": "markdown",
   "metadata": {},
   "source": [
    "### Type conversion:"
   ]
  },
  {
   "cell_type": "code",
   "execution_count": 1,
   "metadata": {
    "scrolled": true
   },
   "outputs": [
    {
     "data": {
      "text/plain": [
       "11.2"
      ]
     },
     "execution_count": 1,
     "metadata": {},
     "output_type": "execute_result"
    }
   ],
   "source": [
    "# 1> Implicit - Integer + Float => Float\n",
    "add = 10 + 1.2\n",
    "add"
   ]
  },
  {
   "cell_type": "code",
   "execution_count": 2,
   "metadata": {
    "scrolled": true
   },
   "outputs": [
    {
     "data": {
      "text/plain": [
       "11.2"
      ]
     },
     "execution_count": 2,
     "metadata": {},
     "output_type": "execute_result"
    }
   ],
   "source": [
    "# 2> Explicit - Integer + String => Integer/Float or String\n",
    "add = 10 + float(\"1.2\")\n",
    "add"
   ]
  },
  {
   "cell_type": "markdown",
   "metadata": {},
   "source": [
    "### Namespace"
   ]
  },
  {
   "cell_type": "code",
   "execution_count": null,
   "metadata": {},
   "outputs": [],
   "source": [
    "Defn - In Python, you can imagine a namespace as a mapping of every name, you have defined, to corresponding objects.\n",
    "1> Built in Namespace\n",
    "2> Global - Module\n",
    "3> Local - Function"
   ]
  },
  {
   "cell_type": "code",
   "execution_count": null,
   "metadata": {},
   "outputs": [],
   "source": [
    "# Super method\n",
    "\n",
    "class A(object):\n",
    "    def __init__(self):\n",
    "        print (\"in A\")\n",
    "        \n",
    "    def methodA(self):\n",
    "        print ('a method')    \n",
    "        \n",
    "\n",
    "class B(A):\n",
    "    def __init__(self):\n",
    "        print (\"in B\")\n",
    "        \n",
    "    def methodB(self):\n",
    "        print ('b method')  \n",
    "        super().methodA() \n",
    "        super(B, self).methodA()\n",
    "        \n",
    "        \n",
    "b = B()\n",
    "print (b.methodB()) "
   ]
  },
  {
   "cell_type": "code",
   "execution_count": null,
   "metadata": {},
   "outputs": [],
   "source": [
    "# Immutable and mutable\n",
    "# Immutable - int, float, bool, str, tuple, unicode\n",
    "# Mutable - list, dict, set\n",
    "\n",
    "# Internally id changes if tried/add/assign diff value to change immutable.\n",
    "\n",
    "Pass by Value - Immutable\n",
    "pass by Reference - Mutable"
   ]
  },
  {
   "cell_type": "markdown",
   "metadata": {},
   "source": [
    "## Closures"
   ]
  },
  {
   "cell_type": "code",
   "execution_count": 1,
   "metadata": {},
   "outputs": [
    {
     "name": "stdout",
     "output_type": "stream",
     "text": [
      "7\n"
     ]
    }
   ],
   "source": [
    "# Inner function\n",
    "def outerfunc(x):\n",
    "    def innerfunc():\n",
    "        print(x)\n",
    "    innerfunc()            \n",
    "outerfunc(7)"
   ]
  },
  {
   "cell_type": "code",
   "execution_count": 2,
   "metadata": {},
   "outputs": [
    {
     "name": "stdout",
     "output_type": "stream",
     "text": [
      "7\n"
     ]
    }
   ],
   "source": [
    "# Closure\n",
    "def outerfunc(x):\n",
    "    def innerfunc():\n",
    "        print(x) # It must refer outer variable.\n",
    "    return innerfunc #Return the object instead of calling the function\n",
    "\n",
    "myfunc=outerfunc(7)\n",
    "myfunc()"
   ]
  },
  {
   "cell_type": "markdown",
   "metadata": {},
   "source": [
    "- Calling innerfunc here, we returned it (the object).\n",
    "- A Python3 closure is when some data gets attached to the code. Above 7 is attached to code. Now if we delete 'outerfunc' also, and call myfunc() - it will still return 7."
   ]
  },
  {
   "cell_type": "markdown",
   "metadata": {},
   "source": [
    "### Use of Closures\n",
    "\n",
    "- Create decorators\n",
    "- No need to create class, only methods will suffice.\n",
    "- A closure lets us invoke Python function outside its scope."
   ]
  },
  {
   "cell_type": "markdown",
   "metadata": {},
   "source": [
    "### Ternary operator in python\n",
    "- z? x: y - NOT supported\n",
    "- a if condition else b - SUPPORTED\n",
    "- [on true] if [expression] else [on false]"
   ]
  },
  {
   "cell_type": "markdown",
   "metadata": {},
   "source": [
    "### Duck Typing\n",
    "- If it looks like integer, it is an integer\n",
    "- If it looks like a duck, it must be a duck). This can raise runtime errors."
   ]
  },
  {
   "cell_type": "markdown",
   "metadata": {},
   "source": [
    "### How python is run\n",
    "- A compiler converts the .py source file into a .pyc bytecode for the Python virtual machine.\n",
    "- A Python interpreter executes this bytecode on the virtual machine."
   ]
  },
  {
   "cell_type": "markdown",
   "metadata": {},
   "source": [
    "### Compilers/interpreters of python\n",
    " - CPython, Jython, IronPython"
   ]
  },
  {
   "cell_type": "markdown",
   "metadata": {},
   "source": [
    "we have the following features:\n",
    "\n",
    "Encapsulation\n",
    "Abstraction\n",
    "Inheritance\n",
    "Polymorphism\n",
    "Data hiding\n"
   ]
  },
  {
   "cell_type": "code",
   "execution_count": null,
   "metadata": {},
   "outputs": [],
   "source": []
  }
 ],
 "metadata": {
  "kernelspec": {
   "display_name": "Python 3",
   "language": "python",
   "name": "python3"
  },
  "language_info": {
   "codemirror_mode": {
    "name": "ipython",
    "version": 3
   },
   "file_extension": ".py",
   "mimetype": "text/x-python",
   "name": "python",
   "nbconvert_exporter": "python",
   "pygments_lexer": "ipython3",
   "version": "3.6.5"
  }
 },
 "nbformat": 4,
 "nbformat_minor": 2
}
