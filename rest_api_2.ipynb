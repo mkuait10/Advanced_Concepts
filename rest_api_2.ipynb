{
 "cells": [
  {
   "cell_type": "markdown",
   "metadata": {},
   "source": [
    "## Django Rest Framework\n"
   ]
  },
  {
   "cell_type": "markdown",
   "metadata": {},
   "source": [
    "### Serializer"
   ]
  },
  {
   "cell_type": "markdown",
   "metadata": {},
   "source": [
    "##### Convert complex data such as querysets and model instances to be converted to native Python datatypes that can then be easily rendered into JSON, XML or other content types.\n",
    "- ORM and non ORM support.\n",
    "- They are responsible for turning your models into RESOURCES in your API when connected to a ViewSet."
   ]
  },
  {
   "cell_type": "code",
   "execution_count": 3,
   "metadata": {},
   "outputs": [],
   "source": [
    "from rest_framework import serializers\n",
    "from .models import Bucketlist\n",
    "\n",
    "class BucketlistSerializer(serializers.ModelSerializer):\n",
    "    \"\"\"Serializer to map the Model instance into JSON format.\"\"\"\n",
    "\n",
    "    class Meta:\n",
    "        \"\"\"Meta class to map serializer's fields with the model fields.\"\"\"\n",
    "        model = Bucketlist\n",
    "        fields = ('id', 'name', 'date_created', 'date_modified')\n",
    "        read_only_fields = ('date_created', 'date_modified')"
   ]
  },
  {
   "cell_type": "markdown",
   "metadata": {},
   "source": [
    "### ViewSet"
   ]
  },
  {
   "cell_type": "markdown",
   "metadata": {},
   "source": [
    "###### Class based views. Can easily inherit generics. Write your post/get methods here\n",
    "- ViewSet are sets of Views that abstract behaviors pertaining to actions performed by the user as the HTTP GET / POST / PUT / DELETE verbs.\n",
    "- The ListCreateAPIView is a generic view which provides GET (list all) and POST method handlers"
   ]
  },
  {
   "cell_type": "code",
   "execution_count": null,
   "metadata": {},
   "outputs": [],
   "source": [
    "from rest_framework import generics\n",
    "from .serializers import BucketlistSerializer\n",
    "from .models import Bucketlist\n",
    "\n",
    "class CreateView(generics.ListCreateAPIView):\n",
    "    \"\"\"This class defines the create behavior of our rest api.\"\"\"\n",
    "    queryset = Bucketlist.objects.all()\n",
    "    serializer_class = BucketlistSerializer\n",
    "\n",
    "    def perform_create(self, serializer):\n",
    "        \"\"\"Save the post data when creating a new bucketlist.\"\"\"\n",
    "        serializer.save()"
   ]
  },
  {
   "cell_type": "markdown",
   "metadata": {},
   "source": [
    "### URLS mapping"
   ]
  },
  {
   "cell_type": "markdown",
   "metadata": {},
   "source": [
    "##### register router here in urls.py"
   ]
  },
  {
   "cell_type": "code",
   "execution_count": null,
   "metadata": {},
   "outputs": [],
   "source": [
    "from django.conf.urls import url, include\n",
    "from rest_framework.urlpatterns import format_suffix_patterns\n",
    "from .views import CreateView\n",
    "\n",
    "urlpatterns = {\n",
    "    url(r'^bucketlists/$', CreateView.as_view(), name=\"create\"),\n",
    "}\n",
    "\n",
    "urlpatterns = format_suffix_patterns(urlpatterns)"
   ]
  }
 ],
 "metadata": {
  "kernelspec": {
   "display_name": "Python 3",
   "language": "python",
   "name": "python3"
  },
  "language_info": {
   "codemirror_mode": {
    "name": "ipython",
    "version": 3
   },
   "file_extension": ".py",
   "mimetype": "text/x-python",
   "name": "python",
   "nbconvert_exporter": "python",
   "pygments_lexer": "ipython3",
   "version": "3.6.5"
  }
 },
 "nbformat": 4,
 "nbformat_minor": 2
}
