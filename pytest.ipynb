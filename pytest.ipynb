{
 "cells": [
  {
   "cell_type": "markdown",
   "metadata": {},
   "source": [
    "### Types of Unit testing framework:\n",
    "- unittest\n",
    "- node\n",
    "- pytest"
   ]
  },
  {
   "cell_type": "code",
   "execution_count": 1,
   "metadata": {},
   "outputs": [
    {
     "ename": "ModuleNotFoundError",
     "evalue": "No module named 'zeep'",
     "output_type": "error",
     "traceback": [
      "\u001b[1;31m---------------------------------------------------------------------------\u001b[0m",
      "\u001b[1;31mModuleNotFoundError\u001b[0m                       Traceback (most recent call last)",
      "\u001b[1;32m<ipython-input-1-61f19cc8028e>\u001b[0m in \u001b[0;36m<module>\u001b[1;34m()\u001b[0m\n\u001b[1;32m----> 1\u001b[1;33m \u001b[1;32mimport\u001b[0m \u001b[0mzeep\u001b[0m\u001b[1;33m\u001b[0m\u001b[0m\n\u001b[0m\u001b[0;32m      2\u001b[0m \u001b[1;33m\u001b[0m\u001b[0m\n\u001b[0;32m      3\u001b[0m \u001b[0mwsdl\u001b[0m \u001b[1;33m=\u001b[0m \u001b[1;34m'http://www.soapclient.com/xml/soapresponder.wsdl'\u001b[0m\u001b[1;33m\u001b[0m\u001b[0m\n\u001b[0;32m      4\u001b[0m \u001b[0mclient\u001b[0m \u001b[1;33m=\u001b[0m \u001b[0mzeep\u001b[0m\u001b[1;33m.\u001b[0m\u001b[0mClient\u001b[0m\u001b[1;33m(\u001b[0m\u001b[0mwsdl\u001b[0m\u001b[1;33m=\u001b[0m\u001b[0mwsdl\u001b[0m\u001b[1;33m)\u001b[0m\u001b[1;33m\u001b[0m\u001b[0m\n\u001b[0;32m      5\u001b[0m \u001b[0mprint\u001b[0m\u001b[1;33m(\u001b[0m\u001b[0mclient\u001b[0m\u001b[1;33m.\u001b[0m\u001b[0mservice\u001b[0m\u001b[1;33m.\u001b[0m\u001b[0mMethod1\u001b[0m\u001b[1;33m(\u001b[0m\u001b[1;34m'Zeep'\u001b[0m\u001b[1;33m,\u001b[0m \u001b[1;34m'is cool'\u001b[0m\u001b[1;33m)\u001b[0m\u001b[1;33m)\u001b[0m\u001b[1;33m\u001b[0m\u001b[0m\n",
      "\u001b[1;31mModuleNotFoundError\u001b[0m: No module named 'zeep'"
     ]
    }
   ],
   "source": [
    "import zeep\n",
    "\n",
    "wsdl = 'http://www.soapclient.com/xml/soapresponder.wsdl'\n",
    "client = zeep.Client(wsdl=wsdl)\n",
    "print(client.service.Method1('Zeep', 'is cool'))"
   ]
  },
  {
   "cell_type": "code",
   "execution_count": null,
   "metadata": {},
   "outputs": [],
   "source": []
  },
  {
   "cell_type": "markdown",
   "metadata": {},
   "source": [
    "#### Fixtures\n",
    "- avoid setup (open connection and cursor) and tear down (close connection/cursor).\n",
    "- It helps to have common cursor opening and close logic.\n",
    "  "
   ]
  },
  {
   "cell_type": "code",
   "execution_count": 1,
   "metadata": {},
   "outputs": [
    {
     "ename": "ModuleNotFoundError",
     "evalue": "No module named 'fixtures'",
     "output_type": "error",
     "traceback": [
      "\u001b[1;31m---------------------------------------------------------------------------\u001b[0m",
      "\u001b[1;31mModuleNotFoundError\u001b[0m                       Traceback (most recent call last)",
      "\u001b[1;32m<ipython-input-1-2a8fffdb9451>\u001b[0m in \u001b[0;36m<module>\u001b[1;34m()\u001b[0m\n\u001b[1;32m----> 1\u001b[1;33m \u001b[1;32mfrom\u001b[0m \u001b[0mfixtures\u001b[0m\u001b[1;33m.\u001b[0m\u001b[0mmydb\u001b[0m \u001b[1;32mimport\u001b[0m \u001b[0mMyDB\u001b[0m\u001b[1;33m\u001b[0m\u001b[0m\n\u001b[0m\u001b[0;32m      2\u001b[0m \u001b[1;33m\u001b[0m\u001b[0m\n\u001b[0;32m      3\u001b[0m \u001b[1;32mimport\u001b[0m \u001b[0mpytest\u001b[0m\u001b[1;33m\u001b[0m\u001b[0m\n\u001b[0;32m      4\u001b[0m \u001b[1;33m\u001b[0m\u001b[0m\n\u001b[0;32m      5\u001b[0m \u001b[1;33m@\u001b[0m\u001b[0mpytest\u001b[0m\u001b[1;33m.\u001b[0m\u001b[0mfixture\u001b[0m\u001b[1;33m(\u001b[0m\u001b[0mscope\u001b[0m\u001b[1;33m=\u001b[0m\u001b[1;34m\"module\"\u001b[0m\u001b[1;33m)\u001b[0m\u001b[1;33m\u001b[0m\u001b[0m\n",
      "\u001b[1;31mModuleNotFoundError\u001b[0m: No module named 'fixtures'"
     ]
    }
   ],
   "source": [
    "from fixtures.mydb import MyDB\n",
    "\n",
    "import pytest\n",
    "\n",
    "@pytest.fixture(scope=\"module\")\n",
    "def cur():\n",
    "    print(\"setting up\")\n",
    "    db = MyDB()\n",
    "    conn = db.connect(\"server\")\n",
    "    curs = conn.cursor()\n",
    "    yield curs\n",
    "    curs.close()\n",
    "    conn.close()\n",
    "    print(\"closing DB\")\n",
    "\n",
    "def test_johns_id(cur):\n",
    "    id = cur.execute(\"select id from employee_db where name=John\")\n",
    "    assert id == 123\n",
    "\n",
    "def test_toms_id(cur):\n",
    "    id = cur.execute(\"select id from employee_db where name=Tom\")\n",
    "    assert id == 789"
   ]
  }
 ],
 "metadata": {
  "kernelspec": {
   "display_name": "Python 3",
   "language": "python",
   "name": "python3"
  },
  "language_info": {
   "codemirror_mode": {
    "name": "ipython",
    "version": 3
   },
   "file_extension": ".py",
   "mimetype": "text/x-python",
   "name": "python",
   "nbconvert_exporter": "python",
   "pygments_lexer": "ipython3",
   "version": "3.6.5"
  }
 },
 "nbformat": 4,
 "nbformat_minor": 2
}
