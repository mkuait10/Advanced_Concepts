{
 "cells": [
  {
   "cell_type": "markdown",
   "metadata": {},
   "source": [
    "### Threads (of the same process) run in a shared memory space."
   ]
  },
  {
   "cell_type": "markdown",
   "metadata": {},
   "source": [
    "### The threads may be running on different processors, but they will only be running ONE at a time due to GIL.\n",
    " - Tasks that spend much of their time waiting for external events are generally good candidates for threading. \n",
    " - Problems that require heavy CPU computation and spend little time waiting for external events might not run faster at all."
   ]
  },
  {
   "cell_type": "code",
   "execution_count": 1,
   "metadata": {},
   "outputs": [
    {
     "name": "stdout",
     "output_type": "stream",
     "text": [
      "calculate square numbers\n",
      "calculate cube of numbers\n",
      "square: 4\n",
      "cube: 8\n",
      "square: 9\n",
      "cube: 27\n",
      "square: 64\n",
      "cube: 512\n",
      "square: 81\n",
      "cube: 729\n",
      "done in :  0.43493127822875977\n",
      "Hah... I am done with all my work now!\n"
     ]
    }
   ],
   "source": [
    "import time\n",
    "import threading\n",
    "\n",
    "def calc_square(numbers):\n",
    "    print(\"calculate square numbers\")\n",
    "    for n in numbers:\n",
    "        time.sleep(0.1)\n",
    "        print('square:',n*n)\n",
    "\n",
    "def calc_cube(numbers):\n",
    "    print(\"calculate cube of numbers\")\n",
    "    for n in numbers:\n",
    "        time.sleep(0.1)\n",
    "        print('cube:',n*n*n)\n",
    "\n",
    "arr = [2,3,8,9]\n",
    "\n",
    "t = time.time()\n",
    "\n",
    "t1 = threading.Thread(target=calc_square, args=(arr,))\n",
    "t2 = threading.Thread(target=calc_cube, args=(arr,))\n",
    "\n",
    "t1.start()\n",
    "t2.start()\n",
    "\n",
    "t1.join() # Tells the process to wait until it finishes t1\n",
    "t2.join() # Tells the process to wait until it finishes t2\n",
    "\n",
    "\n",
    "\n",
    "print(\"done in : \",time.time()-t)\n",
    "print(\"Hah... I am done with all my work now!\")\n",
    "\n"
   ]
  },
  {
   "cell_type": "markdown",
   "metadata": {},
   "source": [
    "### Daemons\n",
    " - It is a thread which will end once the program ends.\n",
    " - Once the process will reach end, the daemon threads will auto get killed.\n"
   ]
  },
  {
   "cell_type": "code",
   "execution_count": null,
   "metadata": {},
   "outputs": [],
   "source": [
    "t1 = threading.Thread(target=thread_function, args=(1,), daemon=True)"
   ]
  },
  {
   "cell_type": "markdown",
   "metadata": {},
   "source": [
    "### Join \n",
    " - Main process will wait for thread to finish\n",
    " - Below it will wait for t1 to get complete."
   ]
  },
  {
   "cell_type": "code",
   "execution_count": null,
   "metadata": {},
   "outputs": [],
   "source": [
    "t1 = threading.Thread( target = calc_square, args=([1,2],))\n",
    "t1.start()\n",
    "t1.join()\n",
    "print (\"all done ...\")"
   ]
  },
  {
   "cell_type": "markdown",
   "metadata": {},
   "source": [
    "### ThreadPoolExecutor\n",
    " - Used for starting a pool of threads\n",
    " - Below used as context managers\n",
    " - Unfortunately, ThreadPoolExecutor will hide that exception. Error program terminates with no output. "
   ]
  },
  {
   "cell_type": "code",
   "execution_count": null,
   "metadata": {},
   "outputs": [],
   "source": [
    "if __name__ == \"__main__\":\n",
    "    with concurrent.futures.ThreadPoolExecutor(max_workers=3) as executor:\n",
    "        executor.map(calc_square, ([4, 5],))"
   ]
  },
  {
   "cell_type": "markdown",
   "metadata": {},
   "source": [
    "### Race Condition\n",
    " - two or more threads access a shared piece of data or resource.\n",
    " - .submit(function, *args, **kwargs)"
   ]
  },
  {
   "cell_type": "code",
   "execution_count": null,
   "metadata": {},
   "outputs": [],
   "source": [
    "database = FakeDatabase()\n",
    "logging.info(\"Testing update. Starting value is %d.\", database.value)\n",
    "with concurrent.futures.ThreadPoolExecutor(max_workers=3) as executor:\n",
    "    for index in range(2):\n",
    "        executor.submit(database.update, index)\n",
    "logging.info(\"Testing update. Ending value is %d.\", database.value)"
   ]
  },
  {
   "cell_type": "markdown",
   "metadata": {},
   "source": [
    "### Basic Synchronization Using Lock: Avoid Race condition\n",
    " - A mutex. Mutex comes from MUTual EXclusion, which is exactly what a Lock does.\n",
    " - Only one thread at a time can have the Lock.\n",
    " - Python’s Lock will also operate as a context manager, so you can use it in a with statement, and it gets released    \n",
    "   automatically when the with block exits for any reason."
   ]
  },
  {
   "cell_type": "code",
   "execution_count": 7,
   "metadata": {},
   "outputs": [],
   "source": [
    "# i will be shared across threads, so multi threaded apps  will print inconsistent results.\n",
    "i=0; # a global variable\n",
    "for x in range(100):\n",
    "    print(i)\n",
    "    i+=1;"
   ]
  },
  {
   "cell_type": "markdown",
   "metadata": {},
   "source": [
    "###  Deadlock\n",
    " - i.e - Dining Philosophers Problem.\n",
    " - Causes\n",
    "   - An implementation bug where a Lock is not released properly\n",
    "   - A design issue where a utility function needs to be called by functions that might or might not already have the Lock"
   ]
  },
  {
   "cell_type": "code",
   "execution_count": null,
   "metadata": {
    "scrolled": true
   },
   "outputs": [
    {
     "name": "stdout",
     "output_type": "stream",
     "text": [
      "before first acquire\n",
      "before second acquire\n"
     ]
    }
   ],
   "source": [
    "import threading\n",
    "\n",
    "l = threading.Lock()\n",
    "print(\"before first acquire\")\n",
    "l.acquire()\n",
    "print(\"before second acquire\")\n",
    "l.acquire()\n",
    "print(\"acquired lock twice\")\n",
    "# Deadlock happened as second time it is trying to acquire lock."
   ]
  },
  {
   "cell_type": "markdown",
   "metadata": {},
   "source": [
    "### Semaphores\n",
    " - A semaphore is simply a variable. \n",
    " - internal counter which is decremented each time acquire() is called and incremented each time release() is called. \n",
    " - makes sense when you want to control access to a resource with limited capacity like a server."
   ]
  },
  {
   "cell_type": "code",
   "execution_count": null,
   "metadata": {},
   "outputs": [],
   "source": [
    "semaphore = threading.Semaphore()\n",
    "semaphore.acquire()\n",
    "# work on a shared resource\n",
    "...\n",
    "semaphore.release()"
   ]
  },
  {
   "cell_type": "markdown",
   "metadata": {},
   "source": [
    "# GIL\n",
    " - type of process lock which is used by python whenever it deals with processes.\n",
    " - Only one thread can run at a time to avoid reference counter problem.\n",
    " - performance of the single-threaded process and the multi-threaded process will be the same.\n",
    " - Done to protect memory leak and deadlock b/w threads, use single interpretor lock called GIL."
   ]
  },
  {
   "cell_type": "code",
   "execution_count": 4,
   "metadata": {},
   "outputs": [
    {
     "data": {
      "text/plain": [
       "3"
      ]
     },
     "execution_count": 4,
     "metadata": {},
     "output_type": "execute_result"
    }
   ],
   "source": [
    "# The CPython garbage collector uses an efficient memory management technique known as reference counting. \n",
    "# Due to this counter, we can count the references and when this count reaches to zero the variable or \n",
    "# data object will be released automatically.\n",
    "import sys\n",
    "a = []\n",
    "b = a\n",
    "sys.getrefcount(a)\n",
    "# 3\n",
    "# reference count for the empty list object [] was 3."
   ]
  },
  {
   "cell_type": "markdown",
   "metadata": {},
   "source": [
    "### Types of multi threading program\n",
    "- CPU bound - Many operations simultaneosuly\n",
    "- I/O bound - spend time waiting for Input/Output."
   ]
  },
  {
   "cell_type": "markdown",
   "metadata": {},
   "source": [
    "### Diff b/w lock, mutex and semaphore\n",
    " - lock: Only allows one thread, not shared with other process\n",
    " - Mutex: same as a lock but it can be system wide (shared by multiple processes).\n",
    " - Semaphore: Allows x number of threads to enter. Used for limiting cpu, ram usage."
   ]
  },
  {
   "cell_type": "markdown",
   "metadata": {},
   "source": [
    "#### Deadlock :\n",
    "\n",
    "This happens when 2 or more threads are waiting on each other to release the resource for infinite amount of time.\n",
    "In this the threads are in blocked state and not executing. \n",
    "This happens due to buggy code.\n",
    "\n",
    "e.g - T1 acqired resorce A and then will acquire B\n",
    "      T2 acqired resorce B and then will acquire A\n",
    "      Both threads waiting for other resource to get released.\n",
    "\n",
    "#### Race/Race Condition:\n",
    "\n",
    "This happens when 2 or more threads run in parallel but end up giving a result which is wrong and not equivalent if all the operations are done in sequential order.\n",
    "Here all the threads run and execute there operations.\n",
    "\n",
    "e.g - two people withdrawing some amount from same bank account using ATM\n",
    "       Total money - Rs 100  \n",
    "       Person 1 - 10 Rs\n",
    "       Person 2 - 50 Rs\n",
    "       \n",
    "       End result will be Rs 50, but it should be Rs 40.\n",
    "\n",
    "In Coding we need to avoid both race and deadlock condition."
   ]
  }
 ],
 "metadata": {
  "kernelspec": {
   "display_name": "Python 3",
   "language": "python",
   "name": "python3"
  },
  "language_info": {
   "codemirror_mode": {
    "name": "ipython",
    "version": 3
   },
   "file_extension": ".py",
   "mimetype": "text/x-python",
   "name": "python",
   "nbconvert_exporter": "python",
   "pygments_lexer": "ipython3",
   "version": "3.6.5"
  }
 },
 "nbformat": 4,
 "nbformat_minor": 2
}
