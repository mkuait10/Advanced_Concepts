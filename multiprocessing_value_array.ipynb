{
 "cells": [
  {
   "cell_type": "markdown",
   "metadata": {},
   "source": [
    "### Use shared memory so that is available through out the address space"
   ]
  },
  {
   "cell_type": "markdown",
   "metadata": {},
   "source": [
    "##### Use of Array and Value"
   ]
  },
  {
   "cell_type": "code",
   "execution_count": null,
   "metadata": {},
   "outputs": [],
   "source": [
    "import time\n",
    "import multiprocessing\n",
    "\n",
    "\n",
    "def calc_square(numbers, result, v):\n",
    "    v.value = 5.89\n",
    "    for idx, n in enumerate(numbers):\n",
    "        result[idx] = n * n\n",
    "\n",
    "\n",
    "if __name__ == \"__main__\":\n",
    "    numbers = [2,3,5]\n",
    "    result = multiprocessing.Array('i', 3)\n",
    "    v = multiprocessing.Value('d', 0.0)\n",
    "    p1 = multiprocessing.Process(target=calc_square, args=(numbers, result, v))\n",
    "\n",
    "    p1.start()\n",
    "\n",
    "    p1.join()\n",
    "    \n",
    "    print (\"Final result: \" + str(result[:]))\n",
    "    print (\"Final Value: \" + str(v.value))\n",
    "\n",
    "    print(\"Done!\")"
   ]
  }
 ],
 "metadata": {
  "kernelspec": {
   "display_name": "Python 3",
   "language": "python",
   "name": "python3"
  },
  "language_info": {
   "codemirror_mode": {
    "name": "ipython",
    "version": 3
   },
   "file_extension": ".py",
   "mimetype": "text/x-python",
   "name": "python",
   "nbconvert_exporter": "python",
   "pygments_lexer": "ipython3",
   "version": "3.6.5"
  }
 },
 "nbformat": 4,
 "nbformat_minor": 2
}
