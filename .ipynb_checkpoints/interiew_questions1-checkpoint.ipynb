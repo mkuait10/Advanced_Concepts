{
 "cells": [
  {
   "cell_type": "markdown",
   "metadata": {},
   "source": [
    "### JP Morgan"
   ]
  },
  {
   "cell_type": "markdown",
   "metadata": {},
   "source": [
    "- Closures\n",
    "- how dict are implemented internally\n",
    "- how immutables work.\n",
    "- Built in decorators : classmethod, staticmethod, property\n",
    "- context managers: how do they work\n",
    "- map, filter, reduce (use case)\n",
    "- types of MRO\n",
    "- Types of inheritance\n",
    "- Namespace and scope in python \n",
    "- GIL in threading\n",
    "- What are callable objects ?\n",
    "- difference between repr and str method\n",
    "- create a dict from 2 lists (list1 - keys, list2 - values)\n",
    "      -  keys = ['a', 'b', 'c']\n",
    "      -   values = [1, 2, 3]\n",
    "      -  dictionary = dict(zip(keys, values))\n",
    "      -   print(dictionary)\n",
    "      -  {'a': 1, 'b': 2, 'c': 3}\n",
    "- How are iteraors diff from generators. Both use next() method.\n",
    "- How many built in methods have you used.\n",
    "- Data hiding\n",
    "- What is the use of _ and __ in variable declaration.\n",
    "- Can child class use parent class __ variable.  => YES, using 'self._Parent--pvt' from Child class\n",
    "- GIL (Global interperter Lock), how does it work\n",
    "- How memory is managed in Python? Garbage collector & heap space ?\n"
   ]
  },
  {
   "cell_type": "markdown",
   "metadata": {},
   "source": [
    "### Projectplace"
   ]
  },
  {
   "cell_type": "markdown",
   "metadata": {},
   "source": [
    "- rest API, soap\n",
    "- why classmethods are actually used.\n",
    "- If both use next() method, how generators are different. Explain in terms of pointers and memory .\n",
    "- reversed method in opertor overloading\n",
    "- Callable in python ?\n",
    "- How many builtins method have you used ?\n",
    "- How immutables are implemented in background. Different Use cases ...\n",
    "- Xrange and range\n",
    "- diff between python 2 and 3\n"
   ]
  },
  {
   "cell_type": "markdown",
   "metadata": {},
   "source": [
    "# Oracle"
   ]
  },
  {
   "cell_type": "markdown",
   "metadata": {},
   "source": [
    "- implement a simple decorator.\n",
    "- implement __add__ method in a new class.\n",
    "- puzzle : ([{sadsvvdfe[]}]) - check if it is properly formatted.\n"
   ]
  },
  {
   "cell_type": "markdown",
   "metadata": {},
   "source": [
    "1.\tHow do I access command line arguments in Python?\n",
    "Ans: sys.argv, argparse\n",
    "2.\tIs it possible to write function inside function in Python:\n",
    "Ans: Yes\n",
    "            Yes /No \n",
    "3.\tWhich method actually instantiates a class (creates an object for the class)? \n",
    "Ans: def __init__()\n",
    "\n",
    "4.\tApart from using “yield” ,  which other approach can be used to create generators in python?\n",
    "Ans: generator expression\n",
    "e.g:  genexp_ls = (i**2 for i in [1, 2, 3, 4, 5])\n",
    "            \n",
    "5.\tWhat exception occurs when an iterator or a generator object gets exhausted during iteration?\n",
    "Ans: StopIteration\n",
    "            \n",
    "6.\tAre conditional statements like “if-else” allowed in a list comprehension?\n",
    "Ans: Yes\n",
    "           Yes /No\n",
    "7.\tWhat kind of python data types or objects are allowed to be the “keys” in a dictionary?\n",
    "Ans: Immutable types – Strings or tuples\n",
    "            \n",
    "8.\tCan comparison operators like “==”, “<=”, “>=”, “!=”, “>”, “<” be overloaded in custom python classes during implementation?\n",
    "Ans: Yes\n",
    "           Yes /No\n",
    "9.\t\"self\" is a keyword in Python ?\n",
    "Ans: No\n",
    "           Yes /No\n",
    "10.\tcan I use tuple as a key of the Dictionary in Python Program?\n",
    "Ans: Yes\n",
    "           Yes /No\n",
    "11.\tHow to overload the \"+\" operator in Python \n",
    "Ans: Define method  def __add__(p1, p2) inside the class.\n",
    "\n"
   ]
  },
  {
   "cell_type": "markdown",
   "metadata": {},
   "source": [
    "### Boeing"
   ]
  },
  {
   "cell_type": "markdown",
   "metadata": {},
   "source": [
    "- implement sort algo. i.e binary sort\n",
    "- Explain protocol used in rabbitMQ. i.e - AMQP\n",
    "- how to call super in python 3.x.\n",
    "- can child class call parent class methods ?\n",
    "- Explain your Warehouse project in detail and CAST product.\n",
    "- How many ways memory is shared across threads/processes ?"
   ]
  },
  {
   "cell_type": "markdown",
   "metadata": {},
   "source": [
    "### ARQ capital"
   ]
  },
  {
   "cell_type": "markdown",
   "metadata": {},
   "source": [
    "- Pandas - why pandas is fast. Why use pandas and Numpy rather than csv.\n",
    "- What general operations are possible with Pandas."
   ]
  },
  {
   "cell_type": "markdown",
   "metadata": {},
   "source": [
    "### CGI"
   ]
  },
  {
   "cell_type": "markdown",
   "metadata": {},
   "source": [
    "- BFS, DFS (graph data structure), Stack, Queue, its uses ...\n",
    "- Serializing and deserilizing. When it is required.\n",
    "- reverse a string, [::-1]\n",
    "- Middlewares, decorators, Build in decorators in python - static method, class method, properties\n",
    "- hashmap, what is hashing ?\n",
    "- When does ValueError exception , TypeError error occur ?\n",
    "    - https://stackoverflow.com/questions/43605512/python-difference-between-valueerror-and-exception\n",
    "- sort a dict based on the inner values \n",
    "    - {'4': {'price': 6}, '2': {'price': 1}}\n",
    "- Django REST framework. why it is different from SOAP. Explain Patch method.\n",
    "- tell 5.x, 4.x, 2.x http status codes.\n",
    "- context managers ?"
   ]
  },
  {
   "cell_type": "markdown",
   "metadata": {},
   "source": [
    "### HCL"
   ]
  },
  {
   "cell_type": "markdown",
   "metadata": {},
   "source": [
    "- write fibonacci series\n",
    "- One Hot Encoding (data science)\n",
    "- Extreme programming."
   ]
  },
  {
   "cell_type": "markdown",
   "metadata": {},
   "source": [
    "### State Street\n",
    "- One difference b/w data abstraction and encapsulation\n",
    "- static binding and dynamic binding\n",
    "   - Also called statically typed and dynamically typed.\n",
    "   - Dymanmically typed: Will be SLOW as interpereter has to find out type at runtime.\n",
    "   - Dymanmically typed: No compile time error, only run time error.\n",
    "- Immutable. why and how tuples are immutables."
   ]
  },
  {
   "cell_type": "markdown",
   "metadata": {},
   "source": [
    "### Sony\n",
    "- Good knowledge of AWS (Step Functions, Lambda, CloudFormation, S3, EC2)\n",
    "- Experience in AWS data services like Redshift, Glue, Athena, Spectrum, Lake Formation"
   ]
  },
  {
   "cell_type": "markdown",
   "metadata": {},
   "source": [
    "### AQR\n",
    "- One or more AWS Certifications preferred\n",
    "- Server and Serverless AWS Services preferred (S3, Lambda, CloudFormation, ActiveMQ, RDS etc)\n",
    "- Experience with Infrastructure as Code solutions, e.g. Terraform, Cloudformation, Troposphere, AWS CDK,\n",
    "etc.\n",
    "- Experience with AWS strongly preferred. Other Cloud technology exposure would be considered\n",
    "- Strong understanding of networking concepts (IP addressing, DHCP and DNS, NTP) and diagnostic tools (tcpdump/ethtool) "
   ]
  },
  {
   "cell_type": "markdown",
   "metadata": {},
   "source": [
    "### KPMG\n",
    "- AWS SysOps Certified\n",
    "- Expertise in AWS/Azure Cloud Engineering\n",
    "- Experience with Configuration Management tooling (Puppet, Ansible)\n",
    "- Experience with IaC (Terraform/CloudFormation)\n",
    "- AWS Services Hands-On experience – EC2, VPC, S3\n",
    "- AWS Developer Certified (preferred)\n",
    "- Knowledge of Linux (RHEL)\n",
    "- Certifications on AWS Kafka/SNS/SQS (preferred)"
   ]
  },
  {
   "cell_type": "markdown",
   "metadata": {},
   "source": [
    "### DXC\n",
    "-\tAWS (knowledge is not limited to only these areas)\n",
    "-\tLambda (using the languages above)\n",
    "-\tCloudFormation (or HashiCorp’s Terraform tool, which outputs CloudFormation templates), a.k.a. the general term “Infrastucture as Code” (IaC)\n",
    "-\tEC2\n",
    "-\tCodeCommit / CodeBuild / CodePipeline, or other non-AWS CI/CD tool suites\n",
    "-\tS3\n",
    "-\tDynamoDB (or any non-AWS NoSQL database experience; SQL experience is helpful but less so without any NoSQL)\n",
    "-\tVPC\n",
    "-\tCloudWatch/CloudTrail\n",
    "-\tIAM\n",
    "-\tSystems Manager\n"
   ]
  },
  {
   "cell_type": "markdown",
   "metadata": {},
   "source": [
    "### Cisco\n",
    "- Experience building SaaS solutions on AWS using EC2, ECS, S3, RDS, Redshift, DynamoDB, Kinesis, Glue, Lambda, SageMaker preferred\n",
    "- Extensive usability knowledge about Amazon AWS Lambda, EC2, Cognito, S3,\n",
    "  DynamoDB, API gateway, Route 53, CloudFront etc.\n",
    "- Extensive knowledge on AWS services for cloud logging/analytics - AWS firehose, Kinesis,\n",
    "  cloudwatch, cloudtrail, SQS, SNS, Glue table\n",
    "- Good knowledge of AWS CodePipeline, AWS CodeCommit and AWS CodeBuild."
   ]
  }
 ],
 "metadata": {
  "kernelspec": {
   "display_name": "Python 3",
   "language": "python",
   "name": "python3"
  },
  "language_info": {
   "codemirror_mode": {
    "name": "ipython",
    "version": 3
   },
   "file_extension": ".py",
   "mimetype": "text/x-python",
   "name": "python",
   "nbconvert_exporter": "python",
   "pygments_lexer": "ipython3",
   "version": "3.6.5"
  }
 },
 "nbformat": 4,
 "nbformat_minor": 2
}
