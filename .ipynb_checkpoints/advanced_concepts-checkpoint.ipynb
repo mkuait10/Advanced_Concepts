{
 "cells": [
  {
   "cell_type": "markdown",
   "metadata": {},
   "source": [
    "### Meta Classes\n",
    " - Metaclasses are what creates classes.\n",
    "    - i.e type: Type is a metaclass which creates classes.\n",
    "    - Usage: Django ORM, i.e create classes at runtime and destroy it."
   ]
  },
  {
   "cell_type": "markdown",
   "metadata": {},
   "source": [
    "### Descriptors\n",
    "- A class that implements one or more of the special methods \n",
    "   - i.e `__get__()__`, `__set__()` and `__delete__()`"
   ]
  },
  {
   "cell_type": "markdown",
   "metadata": {},
   "source": [
    "### Abstract class"
   ]
  },
  {
   "cell_type": "markdown",
   "metadata": {},
   "source": [
    "### Singleton class"
   ]
  },
  {
   "cell_type": "markdown",
   "metadata": {},
   "source": [
    "### Co-Routines\n",
    "\n",
    "Generators produce data\n",
    "\n",
    "Coroutines consume data"
   ]
  }
 ],
 "metadata": {
  "kernelspec": {
   "display_name": "Python 3",
   "language": "python",
   "name": "python3"
  },
  "language_info": {
   "codemirror_mode": {
    "name": "ipython",
    "version": 3
   },
   "file_extension": ".py",
   "mimetype": "text/x-python",
   "name": "python",
   "nbconvert_exporter": "python",
   "pygments_lexer": "ipython3",
   "version": "3.6.5"
  }
 },
 "nbformat": 4,
 "nbformat_minor": 2
}
