{
 "cells": [
  {
   "cell_type": "markdown",
   "metadata": {},
   "source": [
    "### Types of http Status Codes:"
   ]
  },
  {
   "cell_type": "markdown",
   "metadata": {},
   "source": [
    "- 1XX ==> Informational\n",
    "  - e.g - Don't refresh/close browser\n",
    "  - Your application on the way...\n",
    "  - action was successfully received and processing."
   ]
  },
  {
   "cell_type": "markdown",
   "metadata": {},
   "source": [
    "- 2XX ==> Successful\n",
    "  - Response from server is good.\n",
    "  - Server sent some success response."
   ]
  },
  {
   "cell_type": "markdown",
   "metadata": {},
   "source": [
    "- 3XX ==> Redirectional\n",
    "  - Server tells i am not right person, redirects to correct person.\n",
    "  - google.com redirects to google.co.in."
   ]
  },
  {
   "cell_type": "markdown",
   "metadata": {},
   "source": [
    "- 4XX ==> Client error\n",
    "  - Resource on server not found\n",
    "  - 403 (forbidden or csrf token error)"
   ]
  },
  {
   "cell_type": "markdown",
   "metadata": {},
   "source": [
    "- 5XX ==> Server error\n",
    "  - Server is down.\n",
    "  - Server encountered an error in API.\n",
    "  - 502 (Bad gateway)"
   ]
  },
  {
   "cell_type": "markdown",
   "metadata": {},
   "source": [
    "### Serialization: (converting one form to another)"
   ]
  },
  {
   "cell_type": "markdown",
   "metadata": {},
   "source": [
    "- Converting Python dict object to JSON object"
   ]
  },
  {
   "cell_type": "code",
   "execution_count": null,
   "metadata": {},
   "outputs": [],
   "source": [
    "from django.core.serializers import serialize\n",
    "emp_data = serialize('json', [emp_qset,], fields=('eno', 'ename'))"
   ]
  },
  {
   "cell_type": "markdown",
   "metadata": {},
   "source": [
    "### Check status codes"
   ]
  },
  {
   "cell_type": "code",
   "execution_count": 5,
   "metadata": {},
   "outputs": [],
   "source": [
    "import requests\n",
    "if resp.status_code == requests.codes.ok:\n",
    "    # execute sucess codes ...\n",
    "#if resp.status_code in range(200, 300):   -- same as above \n"
   ]
  },
  {
   "cell_type": "markdown",
   "metadata": {},
   "source": [
    "### Add status code in Http response"
   ]
  },
  {
   "cell_type": "code",
   "execution_count": null,
   "metadata": {},
   "outputs": [],
   "source": [
    "return HttpResponse(fresh_data, content_type=\"application/json\", status = 200)"
   ]
  },
  {
   "cell_type": "markdown",
   "metadata": {},
   "source": [
    "### Dumpdata full records for a single table (default is JSON)"
   ]
  },
  {
   "cell_type": "code",
   "execution_count": null,
   "metadata": {},
   "outputs": [],
   "source": [
    "python manage.py dumpdata app.Employee --format xml > emp.xml --indent 4\n",
    "python manage.py dumpdata app.Employee --format json > emp.json --indent 4"
   ]
  },
  {
   "cell_type": "markdown",
   "metadata": {},
   "source": [
    "### CSRF exempt for Post methods:"
   ]
  },
  {
   "cell_type": "code",
   "execution_count": 8,
   "metadata": {},
   "outputs": [],
   "source": [
    "##### Method level\n",
    "\n",
    "from django.views.decorators.csrf import csrf_exempt\n",
    "@csrf_exempt\n",
    "def method(request):"
   ]
  },
  {
   "cell_type": "code",
   "execution_count": null,
   "metadata": {},
   "outputs": [],
   "source": [
    "##### Class level\n",
    "\n",
    "from django.views.decorators.csrf import csrf_exempt\n",
    "from django.utils.decorators import method_decorator\n",
    "\n",
    "@method_decorator(csrf_exempt, name = 'dispatch')\n",
    "class EmployeeDetailCBV(View):"
   ]
  },
  {
   "cell_type": "code",
   "execution_count": 9,
   "metadata": {},
   "outputs": [],
   "source": [
    "##### Project level - Disable csrf middleware from settings."
   ]
  },
  {
   "cell_type": "markdown",
   "metadata": {},
   "source": [
    "### What is the difference between POST and PUT"
   ]
  },
  {
   "cell_type": "code",
   "execution_count": null,
   "metadata": {},
   "outputs": [],
   "source": [
    "form = EmployeeForm(original_data) # POST\n",
    "form = EmployeeForm(original_data, instance = emp) # PUT"
   ]
  },
  {
   "cell_type": "markdown",
   "metadata": {},
   "source": [
    "### Delete method"
   ]
  },
  {
   "cell_type": "code",
   "execution_count": null,
   "metadata": {},
   "outputs": [],
   "source": [
    "try:\n",
    "    emp = Employee.objects.get(id = id)\n",
    "except Employee.DoesNotExist:\n",
    "    emp = None\n",
    "\n",
    "print (\"employee object:\", emp)        \n",
    "status, deleted_item = emp.delete()\n",
    "\n",
    "if status == 1:\n",
    "    print (\"deleted\")\n",
    "else:\n",
    "    print (\"Not deleted\")"
   ]
  },
  {
   "cell_type": "markdown",
   "metadata": {},
   "source": [
    "### Until now, we have performed all CRUD operations but with 2 endpoints.\n",
    "- get: http://127.0.0.1:8000/emp_data/1/\n",
    "- get all: http://127.0.0.1:8000/emp_data/\n",
    "- post: http://127.0.0.1:8000/emp_data/\n",
    "- put: http://127.0.0.1:8000/emp_data/1\n",
    "- delete : http://127.0.0.1:8000/emp_data/1\n",
    "\n",
    "### But for REST API, we mandatorily only need 1 endpoint.\n",
    "\n",
    "            \n",
    "    "
   ]
  },
  {
   "cell_type": "markdown",
   "metadata": {},
   "source": [
    "- Modify all  method code to implement have same endpoint.\n",
    "- i.e : http://127.0.0.1:8000/emp_data/\n",
    "- Pass id in data as json format with all requests.            "
   ]
  }
 ],
 "metadata": {
  "kernelspec": {
   "display_name": "Python 3",
   "language": "python",
   "name": "python3"
  },
  "language_info": {
   "codemirror_mode": {
    "name": "ipython",
    "version": 3
   },
   "file_extension": ".py",
   "mimetype": "text/x-python",
   "name": "python",
   "nbconvert_exporter": "python",
   "pygments_lexer": "ipython3",
   "version": "3.6.5"
  }
 },
 "nbformat": 4,
 "nbformat_minor": 2
}
