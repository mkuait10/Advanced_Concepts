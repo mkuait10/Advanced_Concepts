{
 "cells": [
  {
   "cell_type": "markdown",
   "metadata": {},
   "source": [
    "### Every process has its own address space (virtual memory). Thus programming variables are not shared between two processes. We need to use interprocess communication (IPC) techniques if you want to share data between two process."
   ]
  },
  {
   "cell_type": "code",
   "execution_count": 10,
   "metadata": {},
   "outputs": [
    {
     "name": "stdout",
     "output_type": "stream",
     "text": [
      "outside process: []\n",
      "Done!\n"
     ]
    }
   ],
   "source": [
    "import time\n",
    "import multiprocessing\n",
    "\n",
    "square_result = []\n",
    "\n",
    "def calc_square(numbers):\n",
    "    global square_result\n",
    "    for n in numbers:\n",
    "        print('square ' + str(n*n))\n",
    "        square_result.append(n*n)\n",
    "    print (\"inside process:  \" + str(square_result))\n",
    "\n",
    "\n",
    "if __name__ == \"__main__\":\n",
    "    arr = [2,3,8]\n",
    "    p1 = multiprocessing.Process(target=calc_square, args=(arr,))\n",
    "\n",
    "    p1.start()\n",
    "\n",
    "    p1.join()\n",
    "    \n",
    "    print (\"outside process: \" + str(square_result))\n",
    "\n",
    "    print(\"Done!\")"
   ]
  },
  {
   "cell_type": "code",
   "execution_count": null,
   "metadata": {},
   "outputs": [],
   "source": []
  }
 ],
 "metadata": {
  "kernelspec": {
   "display_name": "Python 3",
   "language": "python",
   "name": "python3"
  },
  "language_info": {
   "codemirror_mode": {
    "name": "ipython",
    "version": 3
   },
   "file_extension": ".py",
   "mimetype": "text/x-python",
   "name": "python",
   "nbconvert_exporter": "python",
   "pygments_lexer": "ipython3",
   "version": "3.6.5"
  }
 },
 "nbformat": 4,
 "nbformat_minor": 2
}
