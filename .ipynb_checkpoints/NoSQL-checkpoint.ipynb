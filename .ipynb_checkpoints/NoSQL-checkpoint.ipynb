{
 "cells": [
  {
   "cell_type": "markdown",
   "metadata": {},
   "source": [
    "### Redis\n",
    " - Port : 6379\n",
    " - Most query is O(1).\n",
    " - Also known as Data structure server.\n",
    " - Comparison to python dict, but has a lot of additional methods. like expire-keys/TTL, encryption.\n",
    " - Why it is so fast ?\n",
    "    - database is held in memory (RAM)\n",
    " - We can take a back up and store it somewhere.   \n",
    " - Also used a AWS elastic cache."
   ]
  }
 ],
 "metadata": {
  "kernelspec": {
   "display_name": "Python 3",
   "language": "python",
   "name": "python3"
  },
  "language_info": {
   "codemirror_mode": {
    "name": "ipython",
    "version": 3
   },
   "file_extension": ".py",
   "mimetype": "text/x-python",
   "name": "python",
   "nbconvert_exporter": "python",
   "pygments_lexer": "ipython3",
   "version": "3.6.5"
  }
 },
 "nbformat": 4,
 "nbformat_minor": 2
}
