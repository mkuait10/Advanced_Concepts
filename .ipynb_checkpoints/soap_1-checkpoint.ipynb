{
 "cells": [
  {
   "cell_type": "markdown",
   "metadata": {},
   "source": [
    "### SOAP (Simple Object Access Protocol)"
   ]
  },
  {
   "cell_type": "markdown",
   "metadata": {},
   "source": [
    "- SOAP is a protocol and stateful.\n",
    "- Traditional\n",
    "- Heavyweight than REST\n",
    "- client data <==> SOAP standard <==>  client data wrapped in soap xml <==>  Server"
   ]
  },
  {
   "cell_type": "markdown",
   "metadata": {},
   "source": [
    "- WSDL defines the contract between client and service and is static by its nature.\n",
    "- SOAP builds an XML based protocol on top of HTTP or sometimes TCP/IP.\n",
    "- SOAP is a successor of XML-RPC and is very similar, but describes a standard way to communicate.\n",
    "- If an operation needs to be continued, then REST is not the best approach and SOAP may fit it better.\n",
    "    - i.e Live video streaming\n",
    "- More reliabile and secure."
   ]
  },
  {
   "cell_type": "markdown",
   "metadata": {},
   "source": [
    "- SOAP cannot make use of REST since SOAP is a protocol and REST is an architectural pattern.\n"
   ]
  },
  {
   "cell_type": "markdown",
   "metadata": {},
   "source": [
    "- SOAP requires more bandwidth and is heavyweight. Only XML can be used."
   ]
  },
  {
   "cell_type": "raw",
   "metadata": {},
   "source": [
    "<?xml version=\"1.0\"?>\n",
    "<SOAP-ENV:Envelope \n",
    "xmlns:SOAP-ENV\n",
    "=\"http://www.w3.org/2001/12/soap-envelope\" \n",
    "SOAP-ENV:encodingStyle\n",
    "=\" http://www.w3.org/2001/12/soap-encoding\">\n",
    "<soap:Body>\n",
    " <Demo.guru99WebService\n",
    " xmlns=\"http://tempuri.org/\">\n",
    "   <EmployeeID>int</EmployeeID>\n",
    "   </Demo.guru99WebService>\n",
    " </soap:Body>\n",
    "</SOAP-ENV:Envelope>"
   ]
  },
  {
   "cell_type": "markdown",
   "metadata": {},
   "source": [
    "### Challenges\n"
   ]
  },
  {
   "cell_type": "markdown",
   "metadata": {},
   "source": [
    "- Define heavyweight WSDL file first. Any change in service name, params needs to communicate to all clients.\n",
    "- Heavy message size."
   ]
  },
  {
   "cell_type": "markdown",
   "metadata": {},
   "source": [
    "e.g - Zeep third party library."
   ]
  }
 ],
 "metadata": {
  "kernelspec": {
   "display_name": "Python 3",
   "language": "python",
   "name": "python3"
  },
  "language_info": {
   "codemirror_mode": {
    "name": "ipython",
    "version": 3
   },
   "file_extension": ".py",
   "mimetype": "text/x-python",
   "name": "python",
   "nbconvert_exporter": "python",
   "pygments_lexer": "ipython3",
   "version": "3.6.5"
  }
 },
 "nbformat": 4,
 "nbformat_minor": 2
}
