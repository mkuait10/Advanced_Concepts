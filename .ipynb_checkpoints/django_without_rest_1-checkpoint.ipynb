{
 "cells": [
  {
   "cell_type": "markdown",
   "metadata": {},
   "source": [
    "#### Create normal request to json in django. Else request will be of type html."
   ]
  },
  {
   "cell_type": "code",
   "execution_count": 13,
   "metadata": {
    "scrolled": true
   },
   "outputs": [
    {
     "name": "stdout",
     "output_type": "stream",
     "text": [
      "{'emp_id': 10, 'emp_name': 'mihir'}\n"
     ]
    }
   ],
   "source": [
    "from django.http import JsonResponse, HttpResponse\n",
    "import json\n",
    "\n",
    "def durga_soft_test(request): \n",
    "    data = {\"emp_id\": 10, \"emp_name\": \"mihir\"}\n",
    "    #d = json.dumps(data)\n",
    "    return JsonResponse(data, content_type=\"application/json\")"
   ]
  },
  {
   "cell_type": "code",
   "execution_count": 14,
   "metadata": {},
   "outputs": [
    {
     "name": "stdout",
     "output_type": "stream",
     "text": [
      "{'emp_id': 10, 'emp_name': 'mihir'}\n"
     ]
    }
   ],
   "source": [
    "import requests\n",
    "resp = requests.get(\"http://127.0.0.1:8000/api/\")\n",
    "print (resp.json())\n"
   ]
  },
  {
   "cell_type": "markdown",
   "metadata": {},
   "source": [
    "###### Default content type is \"text/html\""
   ]
  },
  {
   "cell_type": "markdown",
   "metadata": {},
   "source": [
    "#### Command line HTTP clients"
   ]
  },
  {
   "cell_type": "markdown",
   "metadata": {},
   "source": [
    "- curl\n",
    "- httpie"
   ]
  },
  {
   "cell_type": "markdown",
   "metadata": {},
   "source": [
    "##### What is the main purpose of web api ?"
   ]
  },
  {
   "cell_type": "markdown",
   "metadata": {},
   "source": [
    "- Interoperability between software applications.\n",
    "   - java app <======> django app\n",
    "   - common language/protocol : HTTP\n",
    "   -  Format : JSON"
   ]
  },
  {
   "cell_type": "markdown",
   "metadata": {},
   "source": [
    "### Types of Views:\n",
    "- Method based\n",
    "- Class based\n"
   ]
  },
  {
   "cell_type": "raw",
   "metadata": {},
   "source": [
    "#### Method based:\n",
    "\n",
    "def durga_soft_test(request): \n",
    "    if request.method == \"POST\":\n",
    "        # do post ops\n",
    "    if request.method == \"GET\":\n",
    "        # do get ops\n"
   ]
  },
  {
   "cell_type": "raw",
   "metadata": {},
   "source": [
    "# Class based:\n",
    "\n",
    "from django.views.generic import View\n",
    "class JsonCBV(View):\n",
    "    get():\n",
    "        ...\n",
    "    post():\n",
    "        ...    \n"
   ]
  },
  {
   "cell_type": "markdown",
   "metadata": {},
   "source": [
    "#### All http methods need to be passed through middleware. POST will throw error since {%csrf_token%} is required. Else disbale \n",
    "#### middleware from settings."
   ]
  },
  {
   "cell_type": "markdown",
   "metadata": {},
   "source": [
    "### Mixin Classes:"
   ]
  },
  {
   "cell_type": "markdown",
   "metadata": {},
   "source": [
    "- Class which acts as parent class to provide functionalities to the child class\n",
    "- Only for child class, not for parent\n",
    "- We won't create objects for Mixins\n",
    "- Code Reusability"
   ]
  },
  {
   "cell_type": "code",
   "execution_count": 3,
   "metadata": {},
   "outputs": [],
   "source": [
    "### mixins.py\n",
    "from django.http import HttpResponse\n",
    "\n",
    "class HttpResponseMixin(object):\n",
    "    #### 1000 lines of code possible\n",
    "    def render_to_http_response(self, json_data):\n",
    "        return HttpResponse(json_data, content_type='application/json')"
   ]
  },
  {
   "cell_type": "code",
   "execution_count": 4,
   "metadata": {},
   "outputs": [],
   "source": [
    "### views.py\n",
    "\n",
    "class JsonCBV(HttpResponseMixin, View): ## Since Multiple inheritance is supported\n",
    "    def get(self, request):\n",
    "        data = {\"emp_id\": 10, \"emp_name\": \"mihir\"}\n",
    "        d = json.dumps(data)\n",
    "        return self.render_to_http_response(json_data=d)\n"
   ]
  },
  {
   "cell_type": "markdown",
   "metadata": {},
   "source": [
    "### Difference between Mixins and Multiple inheritance "
   ]
  },
  {
   "cell_type": "markdown",
   "metadata": {},
   "source": [
    "- Instantiation not possible\n",
    "- Methods only useul for child classes\n",
    "- Parent class should be direct parent of child\n",
    "- Special case of Multiple Inheritance."
   ]
  }
 ],
 "metadata": {
  "kernelspec": {
   "display_name": "Python 3",
   "language": "python",
   "name": "python3"
  },
  "language_info": {
   "codemirror_mode": {
    "name": "ipython",
    "version": 3
   },
   "file_extension": ".py",
   "mimetype": "text/x-python",
   "name": "python",
   "nbconvert_exporter": "python",
   "pygments_lexer": "ipython3",
   "version": "3.6.5"
  }
 },
 "nbformat": 4,
 "nbformat_minor": 2
}
