{
 "cells": [
  {
   "cell_type": "markdown",
   "metadata": {},
   "source": [
    "### Closure - nested methods but bahaves like class"
   ]
  },
  {
   "cell_type": "raw",
   "metadata": {},
   "source": []
  },
  {
   "cell_type": "markdown",
   "metadata": {},
   "source": [
    "### Decorators: syntactic sugar"
   ]
  },
  {
   "cell_type": "code",
   "execution_count": null,
   "metadata": {},
   "outputs": [],
   "source": [
    "def b(func):\n",
    "    print (\"in b\")\n",
    "    def inner ():\n",
    "        print (\"in c\")\n",
    "        func()\n",
    "    return inner    \n",
    "\n",
    "@b   \n",
    "def a():\n",
    "    print (\"in a\")\n",
    "    \n",
    "a() \n",
    "\n",
    "# c = b(a)"
   ]
  },
  {
   "cell_type": "markdown",
   "metadata": {},
   "source": [
    "#### Decorators are an example of metaprogramming, where one part of the code tries to change another."
   ]
  },
  {
   "cell_type": "markdown",
   "metadata": {},
   "source": [
    "### Property"
   ]
  },
  {
   "cell_type": "code",
   "execution_count": 1,
   "metadata": {
    "scrolled": true
   },
   "outputs": [
    {
     "name": "stdout",
     "output_type": "stream",
     "text": [
      "type:  <class 'property'>\n",
      "Setting value 0\n",
      "{'_temperature': 0}\n",
      "Setting value 10\n",
      "{'_temperature': 10}\n",
      "Getting value 10\n",
      "10\n",
      "Getting value 10\n",
      "10 10\n"
     ]
    }
   ],
   "source": [
    "class Celsius:\n",
    "    def __init__(self, temperature = 0):\n",
    "        self.temperature = temperature\n",
    "\n",
    "    def to_fahrenheit(self):\n",
    "        return (self.temperature * 1.8) + 32\n",
    "\n",
    "    def get_temperature(self):\n",
    "        print(\"Getting value\", self._temperature)\n",
    "        return self._temperature\n",
    "\n",
    "    def set_temperature(self, value):\n",
    "        if value < -273:\n",
    "            raise ValueError(\"Temperature below -273 is not possible\")\n",
    "        print(\"Setting value\", value)\n",
    "        self._temperature = value\n",
    "\n",
    "    temperature = property(get_temperature, set_temperature)\n",
    "    print ('type: ', type(temperature))\n",
    "    \n",
    "c = Celsius()\n",
    "print ((c.__dict__))\n",
    "c.temperature = 10\n",
    "print ((c.__dict__))\n",
    "print (c.get_temperature()) \n",
    "print (c.temperature, c._temperature)\n"
   ]
  },
  {
   "cell_type": "code",
   "execution_count": null,
   "metadata": {},
   "outputs": [],
   "source": [
    "class person:\n",
    "    def __init__(self):\n",
    "        self.__name=''\n",
    "    @property\n",
    "    def name(self):\n",
    "        return self.__name\n",
    "    @name.setter\n",
    "    def name(self, value):\n",
    "        self.__name=value\n",
    "    @name.deleter\n",
    "    def name(self, value):\n",
    "        print('Deleting..')\n",
    "        del self.__name"
   ]
  },
  {
   "cell_type": "code",
   "execution_count": null,
   "metadata": {},
   "outputs": [],
   "source": []
  },
  {
   "cell_type": "code",
   "execution_count": 1,
   "metadata": {},
   "outputs": [
    {
     "name": "stdout",
     "output_type": "stream",
     "text": [
      "0   --->   0\n",
      "1   --->   1\n",
      "2   --->   1\n",
      "3   --->   2\n",
      "4   --->   3\n",
      "5   --->   5\n",
      "6   --->   8\n",
      "7   --->   13\n",
      "8   --->   21\n",
      "9   --->   34\n"
     ]
    }
   ],
   "source": [
    "def recur_fibo(n):\n",
    "   if n <= 1:  \n",
    "       return n  \n",
    "   else:  \n",
    "       return(recur_fibo(n-1) + recur_fibo(n-2))\n",
    "            \n",
    "for i in range(10):\n",
    "    print (i, '  --->  '  , recur_fibo(i))\n",
    "#0, 1, 1, 2, 3, 5, 8, ...   "
   ]
  },
  {
   "cell_type": "code",
   "execution_count": null,
   "metadata": {},
   "outputs": [],
   "source": [
    "### Dynamically load a module \n",
    "import importlib\n",
    "module = importlib.import_module('git_archive')\n",
    "print (module)"
   ]
  },
  {
   "cell_type": "markdown",
   "metadata": {},
   "source": [
    "### itertools\n",
    "- Supports working with permutations, combinations, and other useful iterables."
   ]
  },
  {
   "cell_type": "markdown",
   "metadata": {},
   "source": [
    "### memory management in Python.\n",
    "- Objects and data structures in Python lie on a private heap. \n",
    "- Python memory manager internally manages this.\n",
    "- interpreter manages this heap; the user has no control over it.\n",
    "- The Python memory manager allocates heap space to objects and other internal buffers on demand."
   ]
  },
  {
   "cell_type": "markdown",
   "metadata": {},
   "source": [
    "### File position\n",
    " - f.tell() # tell the position\n",
    " - f.seek(0, 0) # point to start of file "
   ]
  },
  {
   "cell_type": "markdown",
   "metadata": {},
   "source": [
    "### Lambda\n",
    "- function with a single expression, we can define it anonymously. "
   ]
  }
 ],
 "metadata": {
  "kernelspec": {
   "display_name": "Python 3",
   "language": "python",
   "name": "python3"
  },
  "language_info": {
   "codemirror_mode": {
    "name": "ipython",
    "version": 3
   },
   "file_extension": ".py",
   "mimetype": "text/x-python",
   "name": "python",
   "nbconvert_exporter": "python",
   "pygments_lexer": "ipython3",
   "version": "3.6.5"
  }
 },
 "nbformat": 4,
 "nbformat_minor": 2
}
