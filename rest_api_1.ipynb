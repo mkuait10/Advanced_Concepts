{
 "cells": [
  {
   "cell_type": "markdown",
   "metadata": {},
   "source": [
    "### REST - REpresentational State Transfer is an architectural style."
   ]
  },
  {
   "cell_type": "markdown",
   "metadata": {},
   "source": [
    "- REST is an Architectural style and not a PROTOCOL and stateless.\n",
    "- It defines several guidelines to develop web api very easily.\n",
    "- use less bandwidth than soap\n",
    "- client data <==> sending the data in same format <==>  Server\n",
    "- Everything in REST is considered as a resource.\n",
    "- Every resource is identified by a URI.\n",
    "- Resources are handled using POST, GET, PUT, DELETE.\n",
    "- stateless. Every request is independent and has all the required data to process.\n",
    "- Communications are done via representations."
   ]
  },
  {
   "cell_type": "markdown",
   "metadata": {},
   "source": [
    "- Message security is provided by the transport protocol (HTTPS) and is point-to-point only.\n",
    "- RESTful API is  is flexible for data representation.\n",
    "- If an operation needs to be continued, then REST is not the best approach and SOAP may fit it better. \n",
    "- Less reliabile and secure."
   ]
  },
  {
   "cell_type": "markdown",
   "metadata": {},
   "source": [
    "- REST can make use of SOAP as the underlying protocol for web services, because in the end it is just an architectural pattern.\n",
    "- REST use Uniform Service locators always -  http://demo.guru99.com/Employee/7\n",
    "- Less bandwidht as mostly uses JSON. but others like Plain text, HTML, XML can also be used.\n"
   ]
  },
  {
   "cell_type": "raw",
   "metadata": {},
   "source": [
    "{\"city\":\"Mumbai\",\"state\":\"Maharastra\"}"
   ]
  },
  {
   "cell_type": "markdown",
   "metadata": {},
   "source": [
    "### Challenges"
   ]
  },
  {
   "cell_type": "markdown",
   "metadata": {},
   "source": [
    "- Lack of security\n",
    "- Lack of state\n",
    "  - i.e In shopping cart we need to maintain final cart, so it make client side heavy. "
   ]
  },
  {
   "cell_type": "markdown",
   "metadata": {},
   "source": [
    "e.g - In Django - rest_framework library  JSONRenderer and JSONParser."
   ]
  }
 ],
 "metadata": {
  "kernelspec": {
   "display_name": "Python 3",
   "language": "python",
   "name": "python3"
  },
  "language_info": {
   "codemirror_mode": {
    "name": "ipython",
    "version": 3
   },
   "file_extension": ".py",
   "mimetype": "text/x-python",
   "name": "python",
   "nbconvert_exporter": "python",
   "pygments_lexer": "ipython3",
   "version": "3.6.5"
  }
 },
 "nbformat": 4,
 "nbformat_minor": 2
}
